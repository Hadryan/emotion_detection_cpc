{
 "cells": [
  {
   "cell_type": "code",
   "execution_count": 1,
   "metadata": {},
   "outputs": [],
   "source": [
    "import os\n",
    "from collections import namedtuple\n",
    "import json"
   ]
  },
  {
   "cell_type": "code",
   "execution_count": null,
   "metadata": {},
   "outputs": [],
   "source": [
    "# Modality (01 = full-AV, 02 = video-only, 03 = audio-only).\n",
    "# Vocal channel (01 = speech, 02 = song).\n",
    "# Emotion (01 = neutral, 02 = calm, 03 = happy, 04 = sad, 05 = angry, 06 = fearful, 07 = disgust, 08 = surprised).\n",
    "# Emotional intensity (01 = normal, 02 = strong). NOTE: There is no strong intensity for the 'neutral' emotion.\n",
    "# Statement (01 = \"Kids are talking by the door\", 02 = \"Dogs are sitting by the door\").\n",
    "# Repetition (01 = 1st repetition, 02 = 2nd repetition).\n",
    "# Actor (01 to 24. Odd numbered actors are male, even numbered actors are female)."
   ]
  },
  {
   "cell_type": "code",
   "execution_count": 2,
   "metadata": {},
   "outputs": [],
   "source": [
    "Metadata = namedtuple('Metadata', 'modeality vocal emotion intensity statement repetition actor gender')"
   ]
  },
  {
   "cell_type": "code",
   "execution_count": 3,
   "metadata": {},
   "outputs": [],
   "source": [
    "modality = {\n",
    "    \"01\": \"full-AV\",\n",
    "    \"02\": \"video-only\",\n",
    "    \"03\": \"audio-only\",\n",
    "}\n",
    "vocal_channel = {\n",
    "    \"01\": \"speech\",\n",
    "    \"02\": \"song\",\n",
    "}\n",
    "emotion = {\n",
    "    \"01\": \"neutral\",\n",
    "    \"02\": \"calm\",\n",
    "    \"03\": \"happy\",\n",
    "    \"04\": \"sad\",\n",
    "    \"05\": \"angry\",\n",
    "    \"06\": \"fearful\",\n",
    "    \"07\": \"disgust\",\n",
    "    \"08\": \"surprised\",\n",
    "}\n",
    "intensity = {\n",
    "    \"01\": \"normal\",\n",
    "    \"02\": \"strong\",\n",
    "}\n",
    "statement = {\n",
    "    \"01\": \"Kids are talking by the door\",\n",
    "    \"02\": \"Dogs are sitting by the door\",\n",
    "}"
   ]
  },
  {
   "cell_type": "code",
   "execution_count": 5,
   "metadata": {},
   "outputs": [],
   "source": [
    "data_path = \"/cantab/data/RAVDESS\""
   ]
  },
  {
   "cell_type": "code",
   "execution_count": 8,
   "metadata": {},
   "outputs": [],
   "source": [
    "def parse_filename(filepath):\n",
    "    filename = filepath.split(\"/\")[-1].split(\".\")[0] # e.g. 03-01-04-02-02-02-02\n",
    "    m, v, e, i, s, r, a = filename.split(\"-\")\n",
    "    \n",
    "    m = modality[m]\n",
    "    v = vocal_channel[v]\n",
    "    e = emotion[e]\n",
    "    i = intensity[i]\n",
    "    s = statement[s]\n",
    "    r = int(r)\n",
    "    a = int(a)\n",
    "    g = \"male\" if a % 2 == 1 else \"female\"\n",
    "    \n",
    "    meta_named = Metadata(m, v, e, i, s, r, a, g)\n",
    "    meta_dict = {\n",
    "        \"modeality\": m,\n",
    "        \"vocal_channel\": v,\n",
    "        \"emotion\": e,\n",
    "        \"intensity\": i,\n",
    "        \"statement\": s,\n",
    "        \"repetition\": r,\n",
    "        \"actor\": a,\n",
    "        \"gender\": g,\n",
    "    }\n",
    "    \n",
    "    return meta_dict, meta_named "
   ]
  },
  {
   "cell_type": "code",
   "execution_count": 14,
   "metadata": {},
   "outputs": [],
   "source": [
    "file_dict = {}\n",
    "file_meta = {}\n",
    "for subdir, dirs, files in os.walk(data_path):\n",
    "    for file in files:\n",
    "        file_path = os.path.join(subdir, file)\n",
    "\n",
    "        if file_path.endswith(\".wav\"):\n",
    "            meta_dict, meta_named  = parse_filename(file_path)\n",
    "            file_dict[file_path] = meta_dict\n",
    "            file_meta[file_path] = meta_named"
   ]
  },
  {
   "cell_type": "code",
   "execution_count": 11,
   "metadata": {},
   "outputs": [],
   "source": [
    "with open('emotion/metadata.json', 'w') as fp:\n",
    "    json.dump(file_dict, fp, indent=4)"
   ]
  },
  {
   "cell_type": "code",
   "execution_count": 16,
   "metadata": {},
   "outputs": [],
   "source": [
    "emotion2class = {\n",
    "    \"neutral\": 0,\n",
    "    \"calm\": 1,\n",
    "    \"happy\": 2,\n",
    "    \"sad\": 3,\n",
    "    \"angry\": 4,\n",
    "    \"fearful\": 5,\n",
    "    \"disgust\": 6,\n",
    "    \"surprised\": 7,\n",
    "}\n",
    "\n",
    "with open('emotion/all.dbl', 'w') as fp:\n",
    "    for filepath, meta in file_meta.items():\n",
    "        fp.write(f\"{filepath} {emotion2class[meta.emotion]}\\n\")"
   ]
  },
  {
   "cell_type": "code",
   "execution_count": null,
   "metadata": {},
   "outputs": [],
   "source": []
  }
 ],
 "metadata": {
  "kernelspec": {
   "display_name": "Python 3",
   "language": "python",
   "name": "python3"
  },
  "language_info": {
   "codemirror_mode": {
    "name": "ipython",
    "version": 3
   },
   "file_extension": ".py",
   "mimetype": "text/x-python",
   "name": "python",
   "nbconvert_exporter": "python",
   "pygments_lexer": "ipython3",
   "version": "3.7.7"
  }
 },
 "nbformat": 4,
 "nbformat_minor": 4
}
